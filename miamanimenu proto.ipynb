{
 "cells": [
  {
   "cell_type": "markdown",
   "metadata": {},
   "source": [
    "Copy and replace your own Facebook API token below:\n",
    "[https://developers.facebook.com/tools/explorer/]"
   ]
  },
  {
   "cell_type": "code",
   "execution_count": null,
   "metadata": {
    "collapsed": true
   },
   "outputs": [],
   "source": [
    "FB_API_TOKEN=\"CAACEdEose0cBAMQLORaVI8kYloTKRTKxWp3QaK0Sb8jS8joV47BxOZBUZAnjxYlDBqnNlOJ3vCcW6kWQUFS4kZAYj1PFDxbw9xNkDGB3PjZBpRdTKrAPuq52XqNSl3y4eT4epgvxxtW91LHWbPWnuv5qCA5tBV3qlgqLiVKBZBN7i8mEN2LNVLRW3eqU36dypCkOQv5BXB1qWyc4DSntZB\""
   ]
  },
  {
   "cell_type": "markdown",
   "metadata": {},
   "source": [
    "Add your hipchat token I shared in RapidMiner Budapest HipChat:"
   ]
  },
  {
   "cell_type": "code",
   "execution_count": null,
   "metadata": {
    "collapsed": true
   },
   "outputs": [],
   "source": [
    "HIPCHAT_TOKEN=\"Lca0D8Jdg9coo8O1hH0YIWL0sMXPFDbNvvZuQzyi\""
   ]
  },
  {
   "cell_type": "markdown",
   "metadata": {},
   "source": [
    "### Facebook Scraper"
   ]
  },
  {
   "cell_type": "code",
   "execution_count": null,
   "metadata": {
    "collapsed": false
   },
   "outputs": [],
   "source": [
    "from datetime import date, datetime\n",
    "from dateutil.parser import parse\n",
    "import requests\n",
    "import pprint\n",
    "\n",
    "def fb_get(what):\n",
    "    response = requests.get(\"https://graph.facebook.com/v2.3/{}/?access_token={}\".format(what, FB_API_TOKEN)).json()\n",
    "    if \"error\" in response:\n",
    "        raise Exception(response)\n",
    "    return response\n",
    "\n",
    "def fb_posts(what,start_time=None):\n",
    "    if start_time is None:\n",
    "        start_time = datetime.combine(date.today(), datetime.min.time()) # today 00:00\n",
    "\n",
    "    d = fb_get(\"{}/feed\".format(what))\n",
    "    pp = pprint.PrettyPrinter(indent=4)\n",
    "    pp.pprint(d)\n",
    "    messages = []\n",
    "    for message in d['data']:\n",
    "        time = parse(message['created_time']).replace(tzinfo=None)\n",
    "        if time < start_time:\n",
    "            break\n",
    "        content = message['message']\n",
    "        messages.append({\n",
    "                'content': content,\n",
    "                'time': time,\n",
    "                'picture': message['picture'] if \"picture\" in message else None,\n",
    "                'link': link if message[\"link\"] in message else None,\n",
    "            })\n",
    "    \n",
    "    return list(reversed(messages))\n"
   ]
  },
  {
   "cell_type": "code",
   "execution_count": null,
   "metadata": {
    "collapsed": false
   },
   "outputs": [],
   "source": [
    "places = {\n",
    "    'Konyha': 'konyhabudapest',\n",
    "    'Keksz': '268952226502652',\n",
    "    'Castro': 'castrobistro'\n",
    "}\n",
    "\n",
    "r = fb_posts(\"castrobistro\")\n",
    "print r[0]['content']\n",
    "print r[0]['picture']"
   ]
  },
  {
   "cell_type": "markdown",
   "metadata": {},
   "source": [
    "### Séf bácsi"
   ]
  },
  {
   "cell_type": "code",
   "execution_count": null,
   "metadata": {
    "collapsed": false
   },
   "outputs": [],
   "source": [
    "import json\n",
    "headers = {'content-type': 'application/json'}\n",
    "payload = {\"color\": \"random\", \"message\": \"(chef) Szevasztok srácok, Séf bácsi itt fogja bemondani nemsokára, hogy mi a mai menü! ;)\", \"notify\": False, \"message_format\": \"text\"}\n",
    "response = requests.post('https://api.hipchat.com/v2/room/1995768/notification?auth_token=' + HIPCHAT_TOKEN,\n",
    "              data=json.dumps(payload),\n",
    "              headers=headers)\n",
    "\n",
    "print \"%s: %s\" % (response.status_code, response.text)"
   ]
  },
  {
   "cell_type": "code",
   "execution_count": 39,
   "metadata": {
    "collapsed": false
   },
   "outputs": [
    {
     "name": "stdout",
     "output_type": "stream",
     "text": [
      "The autoreload extension is already loaded. To reload it, use:\n",
      "  %reload_ext autoreload\n"
     ]
    }
   ],
   "source": [
    "from will.plugin import WillPlugin\n",
    "%load_ext autoreload\n",
    "%autoreload 2"
   ]
  },
  {
   "cell_type": "code",
   "execution_count": 94,
   "metadata": {
    "collapsed": false
   },
   "outputs": [
    {
     "data": {
      "text/plain": [
       "{'268952226502652': {'info': [],\n",
       "  'menus': [[u'Mai men\\xfcnk:',\n",
       "    u'- Magyaros z\\xf6ldbableves',\n",
       "    u'- Parmez\\xe1nos bund\\xe1ban s\\xfclt pulykamell, tejsz\\xednes-gomb\\xe1s farfalle t\\xe9szt\\xe1val']]},\n",
       " 'castrobistro': {'info': [],\n",
       "  'menus': [[u'Gyere a Castroba, \\xe9s a kuty\\xe1dat se hagyd otthon :)'],\n",
       "   [u'D\\xe9lt\\u0151l ezzel a men\\xfcvel v\\xe1runk Benneteket!',\n",
       "    u'- Kapros-r\\xf3kagomb\\xe1s kecskeraguleves csipkedett t\\xe9szt\\xe1val',\n",
       "    u'- MALACTOROS birsalm\\xe1val pir\\xedtott savany\\xfa k\\xe1poszt\\xe1val kerti zs\\xe1ly\\xe1s kemenc\\xe9s par\\xe1zsburgony\\xe1val',\n",
       "    u'- Di\\xf3 tri\\xf3s pancake erdei m\\xe9zes joghurt \\xf6ntettel'],\n",
       "   [u'/ Csillag\\xe1nizsos s\\xe1rgac\\xe9kla leves hoisinnal \"karamelliz\\xe1lt\" geszteny\\xe9vel',\n",
       "    u'/ Alg\\xe1s zabpehely krokett repceolajos-b\\xe9bir\\xe9pa dresszinges r\\xf3mai sal\\xe1t\\xe1val']]},\n",
       " 'konyhabudapest': {'info': [], 'menus': []}}"
      ]
     },
     "execution_count": 94,
     "metadata": {},
     "output_type": "execute_result"
    }
   ],
   "source": [
    "#%load_ext autoreload\n",
    "#%autoreload 2\n",
    "%run plugins/chef.py\n",
    "import os\n",
    "os.environ[\"FB_API_TOKEN\"] = \"CAACEdEose0cBAElZBHEbZCDZAxvGBiTY9G0cNJLB17vg9XX6KrRFcY13GoWLFbgmxnLeBLZC6fOU3Q8jVCeBU7JwtYKVMplVCP9tdpRJxZCdezXvPSOQOrOZCzqrDWRn5wdSGK0xxBWqmPenbLkSUoy6Ec6ptZBSoFnBqJz4Rtw6qJpa4J5bLddHryB2u22JlsXxeQRz0Tgbb7tu2UC0DWL\"\n",
    "from plugins.chef import *\n",
    "#chef = ChefPlugin()\n",
    "#chef.miamenu(None)\n",
    "fb_menu()"
   ]
  },
  {
   "cell_type": "code",
   "execution_count": null,
   "metadata": {
    "collapsed": true
   },
   "outputs": [],
   "source": []
  },
  {
   "cell_type": "code",
   "execution_count": null,
   "metadata": {
    "collapsed": true
   },
   "outputs": [],
   "source": []
  }
 ],
 "metadata": {
  "kernelspec": {
   "display_name": "Python 2",
   "language": "python",
   "name": "python2"
  },
  "language_info": {
   "codemirror_mode": {
    "name": "ipython",
    "version": 2
   },
   "file_extension": ".py",
   "mimetype": "text/x-python",
   "name": "python",
   "nbconvert_exporter": "python",
   "pygments_lexer": "ipython2",
   "version": "2.7.10"
  }
 },
 "nbformat": 4,
 "nbformat_minor": 0
}
