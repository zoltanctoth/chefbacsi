{
 "cells": [
  {
   "cell_type": "markdown",
   "metadata": {},
   "source": [
    "Copy and replace your own Facebook API token below:\n",
    "[https://developers.facebook.com/tools/explorer/]"
   ]
  },
  {
   "cell_type": "code",
   "execution_count": 2,
   "metadata": {
    "collapsed": true
   },
   "outputs": [],
   "source": [
    "FB_API_TOKEN=\"CAACEdEose0cBAAlpNoTG4HwnpLe9zDpvNBZBrctZAxWZA9Y2u1TaonRSmfg5euQ0psmN5BJSuh4GR3dnPdxZAD4j1YRNdCIbhzDZCPZABEe0ko8jn8v4w5tiikYmJLQO0rFHnEf7wataq5Ri2enkZCtJLNLE5HI1DjZA6SbORZBeFWtFwMvR6hYbilIosBZCZAOxZB4AqCUZA31Ez3gZDZD\""
   ]
  },
  {
   "cell_type": "markdown",
   "metadata": {},
   "source": [
    "Add your hipchat token I shared in RapidMiner Budapest HipChat:"
   ]
  },
  {
   "cell_type": "code",
   "execution_count": 3,
   "metadata": {
    "collapsed": true
   },
   "outputs": [],
   "source": [
    "HIPCHAT_TOKEN=\"<<REPLACE_THIS>>\""
   ]
  },
  {
   "cell_type": "markdown",
   "metadata": {},
   "source": [
    "### Facebook Scraper"
   ]
  },
  {
   "cell_type": "code",
   "execution_count": 4,
   "metadata": {
    "collapsed": false
   },
   "outputs": [],
   "source": [
    "from datetime import date, datetime\n",
    "from dateutil.parser import parse\n",
    "import requests\n",
    "\n",
    "def fb_get(what):\n",
    "    response = requests.get(\"https://graph.facebook.com/v2.3/{}/?access_token={}\".format(what, FB_API_TOKEN)).json()\n",
    "    if \"error\" in response:\n",
    "        raise Exception(response)\n",
    "    return response\n",
    "\n",
    "def fb_posts(what,start_time=None):\n",
    "    if start_time is None:\n",
    "        start_time = datetime.combine(date.today(), datetime.min.time()) # today 00:00\n",
    "\n",
    "    d = fb_get(\"{}/feed\".format(what))\n",
    "\n",
    "    messages = []\n",
    "    for message in d['data']:\n",
    "        time = parse(message['created_time']).replace(tzinfo=None)\n",
    "        if time < start_time:\n",
    "            break\n",
    "        content = message['message']\n",
    "        messages.append({\n",
    "                'content': content,\n",
    "                'time': time,\n",
    "                'picture': message['picture'] if \"picture\" in message else None,\n",
    "                'link': link if message[\"link\"] in message else None,\n",
    "            })\n",
    "    \n",
    "    return list(reversed(messages))\n"
   ]
  },
  {
   "cell_type": "code",
   "execution_count": 5,
   "metadata": {
    "collapsed": false
   },
   "outputs": [
    {
     "name": "stdout",
     "output_type": "stream",
     "text": [
      "Csütörtöki menüválogatás\n",
      "\n",
      "Zsályás vaddisznó raguleves erdei gombákkal szárított kacsasonkás maceszgaluskával\n",
      "Mini csirke combok vanilliás sóval- naranccsal kemencében puhítva COLBERT szósszal kecsketúrós-pritaminos roppanós parázsburgonyával\n",
      "Rumos-mákos CLAFOUTIS\n",
      "Vega:\n",
      "Kókuszos-gyömbéres uborkaleves ruccolás metélttel\n",
      "Csicsókás-csirágos pite balzsamos tárkonyhabbal\n",
      "Rumos-mákos CLAFOUTIS\n"
     ]
    }
   ],
   "source": [
    "places = {\n",
    "    'Konyha': 'konyhabudapest',\n",
    "    'Keksz': '268952226502652',\n",
    "    'Castro': 'castrobistro'\n",
    "}\n",
    "\n",
    "r = fb_posts(\"castrobistro\")\n",
    "print r[0]['content']"
   ]
  },
  {
   "cell_type": "markdown",
   "metadata": {},
   "source": [
    "### Séf bácsi"
   ]
  },
  {
   "cell_type": "code",
   "execution_count": 10,
   "metadata": {
    "collapsed": false
   },
   "outputs": [
    {
     "name": "stdout",
     "output_type": "stream",
     "text": [
      "204: \n"
     ]
    }
   ],
   "source": [
    "import json\n",
    "headers = {'content-type': 'application/json'}\n",
    "payload = {\"color\": \"random\", \"message\": \"(chef) Szevasztok srácok, Séf bácsi itt fogja bemondani nemsokára, hogy mi a mai menü! ;)\", \"notify\": False, \"message_format\": \"text\"}\n",
    "response = requests.post('https://api.hipchat.com/v2/room/1995768/notification?auth_token=Lca0D8Jdg9coo8O1hH0YIWL0sMXPFDbNvvZuQzyi',\n",
    "              data=json.dumps(payload),\n",
    "              headers=headers)\n",
    "\n",
    "print \"%s: %s\" % (response.status_code, response.text)"
   ]
  },
  {
   "cell_type": "code",
   "execution_count": null,
   "metadata": {
    "collapsed": true
   },
   "outputs": [],
   "source": []
  }
 ],
 "metadata": {
  "kernelspec": {
   "display_name": "Python 2",
   "language": "python",
   "name": "python2"
  },
  "language_info": {
   "codemirror_mode": {
    "name": "ipython",
    "version": 2
   },
   "file_extension": ".py",
   "mimetype": "text/x-python",
   "name": "python",
   "nbconvert_exporter": "python",
   "pygments_lexer": "ipython2",
   "version": "2.7.10"
  }
 },
 "nbformat": 4,
 "nbformat_minor": 0
}
